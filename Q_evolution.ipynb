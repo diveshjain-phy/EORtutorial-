{
 "cells": [
  {
   "cell_type": "code",
   "execution_count": 1,
   "metadata": {},
   "outputs": [],
   "source": [
    "import numpy as np\n",
    "import scipy as sp\n",
    "import pylab as plt\n",
    "\n",
    "import cosmolopy"
   ]
  },
  {
   "cell_type": "code",
   "execution_count": 2,
   "metadata": {},
   "outputs": [],
   "source": [
    "omegam, omegab, h, sigma_8, ns = (0.315, 0.0487, 0.673, 0.83, 0.960) ##Planck-13\n",
    "cosmo = cosmolopy.fidcosmo\n",
    "cosmo.update({'omega_M_0':omegam, 'omega_lambda_0':1 - omegam, 'omega_k_0':0.0, 'omega_b_0':omegab, 'h':h, 'n':ns, 'sigma_8':sigma_8})"
   ]
  },
  {
   "cell_type": "code",
   "execution_count": 42,
   "metadata": {},
   "outputs": [],
   "source": [
    "Mmin = 1.e8\n",
    "zeta = 10.0\n",
    "clumping = 3.0"
   ]
  },
  {
   "cell_type": "code",
   "execution_count": 43,
   "metadata": {},
   "outputs": [
    {
     "name": "stderr",
     "output_type": "stream",
     "text": [
      "/usr/local/lib/python3.8/dist-packages/numpy/lib/function_base.py:2197: RuntimeWarning: overflow encountered in _vec_transfer_func (vectorized)\n",
      "  outputs = ufunc(*inputs)\n"
     ]
    }
   ],
   "source": [
    "z_arr = np.linspace(30.0, 0.0, num=300)\n",
    "fcoll_arr = cosmolopy.perturbation.collapse_fraction(*cosmolopy.perturbation.sig_del(Mmin, z_arr, passed_min_mass=True, **cosmo)) \n",
    "## crucial to include passed_min_mass\n"
   ]
  },
  {
   "cell_type": "code",
   "execution_count": 44,
   "metadata": {},
   "outputs": [],
   "source": [
    "def dP_dz(P_z, z, clumping, zeta, cosmo):\n",
    "    T0 = 1.e4\n",
    "    alpha_B = cosmolopy.reionization.recomb_rate_coeff_HG(T0, 'H', 'B')\n",
    "    ignore, ignore, ignore, n_H_0 = cosmolopy.density.baryon_densities(**cosmo)\n",
    "    n_H_0 = n_H_0  / cosmolopy.cc.Mpc_cm ** 3  ### change units\n",
    "    \n",
    "    fcoll = cosmolopy.perturbation.collapse_fraction(*cosmolopy.perturbation.sig_del(Mmin, z, passed_min_mass=True, **cosmo))\n",
    "    recomb_term = - clumping * alpha_B * n_H_0 * (1. + z) ** 3. / (cosmolopy.distance.hubble_z(z, **cosmo) * (1. + z))\n",
    "    \n",
    "    return - recomb_term * (P_z + zeta * fcoll)"
   ]
  },
  {
   "cell_type": "code",
   "execution_count": 55,
   "metadata": {},
   "outputs": [],
   "source": [
    "P_arr = sp.integrate.odeint(dP_dz, y0=0.0, t=z_arr, args=(clumping, zeta, cosmo))\n",
    "P_arr = P_arr.flatten()  ### flatten the 2-d array\n",
    "Q_arr = P_arr + zeta * fcoll_arr\n",
    "Q_arr[Q_arr > 1.0] = 1.0\n",
    "z_end = z_arr[np.argmax(Q_arr == 1.0)]"
   ]
  },
  {
   "cell_type": "code",
   "execution_count": 56,
   "metadata": {},
   "outputs": [
    {
     "data": {
      "image/png": "[encoded data removed]",
      "text/plain": [
       "<Figure size 432x288 with 1 Axes>"
      ]
     },
     "metadata": {
      "needs_background": "light"
     },
     "output_type": "display_data"
    }
   ],
   "source": [
    "plt.plot(z_arr, Q_arr)\n",
    "plt.xlabel(r'$z$')\n",
    "plt.ylabel(r'$Q_{\\mathrm{HII}}(z)$')\n",
    "plt.show()"
   ]
  },
  {
   "cell_type": "code",
   "execution_count": 57,
   "metadata": {},
   "outputs": [
    {
     "name": "stdout",
     "output_type": "stream",
     "text": [
      "0.04553865926592815\n"
     ]
    }
   ],
   "source": [
    "x_ionHe_arr = np.zeros_like(Q_arr)\n",
    "tau_arr = cosmolopy.reionization.integrate_optical_depth(Q_arr[::-1], x_ionHe_arr, z_arr[::-1], **cosmo)\n",
    "tau_arr = tau_arr[::-1]\n",
    "print (tau_arr[0])"
   ]
  },
  {
   "cell_type": "code",
   "execution_count": 58,
   "metadata": {},
   "outputs": [
    {
     "data": {
      "image/png": "[encoded data removed]",
      "text/plain": [
       "<Figure size 432x288 with 1 Axes>"
      ]
     },
     "metadata": {
      "needs_background": "light"
     },
     "output_type": "display_data"
    }
   ],
   "source": [
    "plt.plot(z_arr, tau_arr)\n",
    "plt.xlabel(r'$z$')\n",
    "plt.ylabel(r'$\\tau_{\\mathrm{CMB}}(z)$')\n",
    "plt.show()"
   ]
  },
  {
   "cell_type": "code",
   "execution_count": null,
   "metadata": {},
   "outputs": [],
   "source": []
  }
 ],
 "metadata": {
  "kernelspec": {
   "display_name": "Python 3",
   "language": "python",
   "name": "python3"
  },
  "language_info": {
   "codemirror_mode": {
    "name": "ipython",
    "version": 3
   },
   "file_extension": ".py",
   "mimetype": "text/x-python",
   "name": "python",
   "nbconvert_exporter": "python",
   "pygments_lexer": "ipython3",
   "version": "3.8.5"
  }
 },
 "nbformat": 4,
 "nbformat_minor": 4
}
